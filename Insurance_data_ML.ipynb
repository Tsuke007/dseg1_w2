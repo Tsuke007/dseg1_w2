{
  "nbformat": 4,
  "nbformat_minor": 0,
  "metadata": {
    "colab": {
      "name": "Insurance_data_ML",
      "provenance": [],
      "toc_visible": true,
      "include_colab_link": true
    },
    "kernelspec": {
      "name": "python3",
      "display_name": "Python 3"
    }
  },
  "cells": [
    {
      "cell_type": "markdown",
      "metadata": {
        "id": "view-in-github",
        "colab_type": "text"
      },
      "source": [
        "<a href=\"https://colab.research.google.com/github/Tsuke007/dseg1_w2/blob/main/Insurance_data_ML.ipynb\" target=\"_parent\"><img src=\"https://colab.research.google.com/assets/colab-badge.svg\" alt=\"Open In Colab\"/></a>"
      ]
    },
    {
      "cell_type": "markdown",
      "metadata": {
        "id": "oBUWtzn5hqGy"
      },
      "source": [
        "Download dataset from: https://www.kaggle.com/anmolkumar/health-insurance-cross-sell-prediction"
      ]
    },
    {
      "cell_type": "code",
      "metadata": {
        "id": "1DF6W76ghxBn"
      },
      "source": [
        "!gdown --id 1E0eztrotQ9CPH5glLgONIwxV-M4WqXJ_"
      ],
      "execution_count": null,
      "outputs": []
    },
    {
      "cell_type": "code",
      "metadata": {
        "id": "fWqADFh6h91T"
      },
      "source": [
        "!unzip insurance_cross_sell.zip"
      ],
      "execution_count": null,
      "outputs": []
    },
    {
      "cell_type": "markdown",
      "metadata": {
        "id": "oSvkcNlDjzoM"
      },
      "source": [
        "#Pipeline\n",
        "1. Collect Dataset\n",
        "2. Clean Data\n",
        "3. Extract Features\n",
        "4. Split Training and test\n",
        "5. Train\n",
        "6. Evaluate\n",
        "7. Create Pipeline"
      ]
    },
    {
      "cell_type": "markdown",
      "metadata": {
        "id": "fJHR9Fwsj4iK"
      },
      "source": [
        "#1. Collect Dataset"
      ]
    },
    {
      "cell_type": "code",
      "metadata": {
        "id": "m6DO3ZM6j4_p"
      },
      "source": [
        "import pandas as pd\n",
        "import numpy as np"
      ],
      "execution_count": null,
      "outputs": []
    },
    {
      "cell_type": "code",
      "metadata": {
        "id": "EkAYzcpKkALP"
      },
      "source": [
        "insured_df = pd.read_csv('train.csv')"
      ],
      "execution_count": null,
      "outputs": []
    },
    {
      "cell_type": "code",
      "metadata": {
        "id": "_0jInigWk_T8"
      },
      "source": [
        "insured_df.head()"
      ],
      "execution_count": null,
      "outputs": []
    },
    {
      "cell_type": "code",
      "metadata": {
        "id": "pbJvpUlilDbn"
      },
      "source": [
        "def collect_data():\n",
        "  insured_df = pd.read_csv('train.csv')\n",
        "  return insured_df"
      ],
      "execution_count": null,
      "outputs": []
    },
    {
      "cell_type": "markdown",
      "metadata": {
        "id": "zHDGavIBx9LG"
      },
      "source": [
        "#2. Clean Data"
      ]
    },
    {
      "cell_type": "code",
      "metadata": {
        "id": "4Kf6VnQ1x_56"
      },
      "source": [
        "insured_df.head()"
      ],
      "execution_count": null,
      "outputs": []
    },
    {
      "cell_type": "code",
      "metadata": {
        "id": "rtmINKjWyIC0"
      },
      "source": [
        "insured_df.info()"
      ],
      "execution_count": null,
      "outputs": []
    },
    {
      "cell_type": "code",
      "metadata": {
        "id": "0Ei6CIzYyJiX"
      },
      "source": [
        "insured_df['Response']"
      ],
      "execution_count": null,
      "outputs": []
    },
    {
      "cell_type": "code",
      "metadata": {
        "id": "QJQgIzJ4yXWH"
      },
      "source": [
        "insured_df.isna().sum()"
      ],
      "execution_count": null,
      "outputs": []
    },
    {
      "cell_type": "markdown",
      "metadata": {
        "id": "bU6pdblmzX4h"
      },
      "source": [
        "#3. Extract Features"
      ]
    },
    {
      "cell_type": "code",
      "metadata": {
        "id": "ievneMt_zYYl"
      },
      "source": [
        "insured_df.head()"
      ],
      "execution_count": null,
      "outputs": []
    },
    {
      "cell_type": "code",
      "metadata": {
        "id": "eEY7exi4zuND"
      },
      "source": [
        "def extract_feature(df, is_training=True):\n",
        "  insured_new_df = df.copy()\n",
        "  label_df = []\n",
        "\n",
        "  if 'Response' in insured_new_df.columns:\n",
        "    label_df = insured_new_df['Response']\n",
        "\n",
        "     # drop unused columns\n",
        "  if is_training:\n",
        "    insured_new_df =insured_new_df.drop(['Response','id'],axis=1)\n",
        "  col_names = ['Gender','Vehicle_Age','Vehicle_Damage']\n",
        "\n",
        "    # One-Hot Encoding\n",
        "  dummies_df = pd.get_dummies(insured_new_df[col_names])\n",
        "\n",
        "   # Merge One-Hot Encoding\n",
        "  insured_new_df = pd.concat([insured_new_df, dummies_df], axis=1)\n",
        "\n",
        "  # Drop unused columns (One-Hot Encoding)\n",
        "  insured_new_df = insured_new_df.drop(col_names, axis=1)\n",
        "\n",
        "\n",
        "  for col in insured_new_df.columns:\n",
        "    insured_new_df[col] = pd.to_numeric(insured_new_df[col],errors='coerce')\n",
        "\n",
        "  return insured_new_df,label_df"
      ],
      "execution_count": null,
      "outputs": []
    },
    {
      "cell_type": "code",
      "metadata": {
        "id": "MWSKR6Lb3Yln"
      },
      "source": [
        "insured_new_df,label_df = extract_feature(insured_df)"
      ],
      "execution_count": null,
      "outputs": []
    },
    {
      "cell_type": "code",
      "metadata": {
        "id": "9SHtmHfr5It6"
      },
      "source": [
        "insured_new_df"
      ],
      "execution_count": null,
      "outputs": []
    },
    {
      "cell_type": "markdown",
      "metadata": {
        "id": "Dpi6Ms5W-gTc"
      },
      "source": [
        "#4. Train & Test split "
      ]
    },
    {
      "cell_type": "code",
      "metadata": {
        "id": "5v2GAND0-q99"
      },
      "source": [
        "len(insured_new_df)"
      ],
      "execution_count": null,
      "outputs": []
    },
    {
      "cell_type": "code",
      "metadata": {
        "id": "NDqj9MLF-vZD"
      },
      "source": [
        "from sklearn.model_selection import train_test_split\n",
        "train_insured, test_insured, train_label, test_label = \\\n",
        "          train_test_split(insured_new_df, label_df, test_size=0.2, random_state=42)"
      ],
      "execution_count": null,
      "outputs": []
    },
    {
      "cell_type": "code",
      "metadata": {
        "id": "_Vm_BrvY_D26"
      },
      "source": [
        "len(train_insured)"
      ],
      "execution_count": null,
      "outputs": []
    },
    {
      "cell_type": "code",
      "metadata": {
        "id": "fyVZOb-K_LQV"
      },
      "source": [
        "len(test_insured)"
      ],
      "execution_count": null,
      "outputs": []
    },
    {
      "cell_type": "code",
      "metadata": {
        "id": "ls83Ftdy_bBt"
      },
      "source": [
        "def split_train_test(insured_new_df, label):\n",
        "  train_insured, test_insured, train_label, test_label = \\\n",
        "          train_test_split(insured_new_df, label, test_size=0.2, random_state=42)\n",
        "  return train_insured, test_insured, train_label, test_label"
      ],
      "execution_count": null,
      "outputs": []
    },
    {
      "cell_type": "code",
      "metadata": {
        "id": "V0KMKlD4_xFn"
      },
      "source": [
        "train_insured, test_insured, train_label, test_label = \\\n",
        "        split_train_test(insured_new_df, label_df)"
      ],
      "execution_count": null,
      "outputs": []
    },
    {
      "cell_type": "markdown",
      "metadata": {
        "id": "9GOvlM5EGDCz"
      },
      "source": [
        "#5. Train (Classification)"
      ]
    },
    {
      "cell_type": "code",
      "metadata": {
        "id": "wf4DYA0UGEXl"
      },
      "source": [
        "from sklearn.ensemble import GradientBoostingClassifier\n",
        "from sklearn.svm import SVC"
      ],
      "execution_count": null,
      "outputs": []
    },
    {
      "cell_type": "code",
      "metadata": {
        "id": "awQsJq5AG3r_"
      },
      "source": [
        "def train_model(insured_new_df, label):\n",
        "  model = GradientBoostingClassifier(random_state=2020)\n",
        "  #model = SVC()\n",
        "  model.fit(insured_new_df, label)\n",
        "  return model"
      ],
      "execution_count": null,
      "outputs": []
    },
    {
      "cell_type": "code",
      "metadata": {
        "id": "xpBeMF6DG88n"
      },
      "source": [
        "model = train_model(train_insured, train_label)"
      ],
      "execution_count": 25,
      "outputs": []
    },
    {
      "cell_type": "code",
      "metadata": {
        "id": "R5wU4QB8H9Bq",
        "colab": {
          "base_uri": "https://localhost:8080/"
        },
        "outputId": "76412905-ad4b-42c9-cfdf-dc1d7e3b259b"
      },
      "source": [
        "model"
      ],
      "execution_count": 26,
      "outputs": [
        {
          "output_type": "execute_result",
          "data": {
            "text/plain": [
              "GradientBoostingClassifier(ccp_alpha=0.0, criterion='friedman_mse', init=None,\n",
              "                           learning_rate=0.1, loss='deviance', max_depth=3,\n",
              "                           max_features=None, max_leaf_nodes=None,\n",
              "                           min_impurity_decrease=0.0, min_impurity_split=None,\n",
              "                           min_samples_leaf=1, min_samples_split=2,\n",
              "                           min_weight_fraction_leaf=0.0, n_estimators=100,\n",
              "                           n_iter_no_change=None, presort='deprecated',\n",
              "                           random_state=2020, subsample=1.0, tol=0.0001,\n",
              "                           validation_fraction=0.1, verbose=0,\n",
              "                           warm_start=False)"
            ]
          },
          "metadata": {
            "tags": []
          },
          "execution_count": 26
        }
      ]
    },
    {
      "cell_type": "markdown",
      "metadata": {
        "id": "5aSh1eGyJE7G"
      },
      "source": [
        "#6. Evaluation (Classification)"
      ]
    },
    {
      "cell_type": "code",
      "metadata": {
        "id": "N4NtFUceJFlu"
      },
      "source": [
        "def eval_acc(prediction, actual):\n",
        "  acc = sum(prediction == actual) / len(actual)\n",
        "  return acc"
      ],
      "execution_count": 27,
      "outputs": []
    },
    {
      "cell_type": "code",
      "metadata": {
        "id": "Uk44V_eSJP2i",
        "colab": {
          "base_uri": "https://localhost:8080/"
        },
        "outputId": "f08895ae-01d4-4aa4-bd0e-6116756d6847"
      },
      "source": [
        "pred = model.predict(test_insured)\n",
        "eval_acc(pred, test_label)"
      ],
      "execution_count": 28,
      "outputs": [
        {
          "output_type": "execute_result",
          "data": {
            "text/plain": [
              "0.8750754375377188"
            ]
          },
          "metadata": {
            "tags": []
          },
          "execution_count": 28
        }
      ]
    },
    {
      "cell_type": "code",
      "metadata": {
        "id": "-KEOHCQ7JXVg",
        "colab": {
          "base_uri": "https://localhost:8080/",
          "height": 438
        },
        "outputId": "37c327cd-41bb-4aee-ea00-f552e1519e54"
      },
      "source": [
        "train_insured"
      ],
      "execution_count": 29,
      "outputs": [
        {
          "output_type": "execute_result",
          "data": {
            "text/html": [
              "<div>\n",
              "<style scoped>\n",
              "    .dataframe tbody tr th:only-of-type {\n",
              "        vertical-align: middle;\n",
              "    }\n",
              "\n",
              "    .dataframe tbody tr th {\n",
              "        vertical-align: top;\n",
              "    }\n",
              "\n",
              "    .dataframe thead th {\n",
              "        text-align: right;\n",
              "    }\n",
              "</style>\n",
              "<table border=\"1\" class=\"dataframe\">\n",
              "  <thead>\n",
              "    <tr style=\"text-align: right;\">\n",
              "      <th></th>\n",
              "      <th>Age</th>\n",
              "      <th>Driving_License</th>\n",
              "      <th>Region_Code</th>\n",
              "      <th>Previously_Insured</th>\n",
              "      <th>Annual_Premium</th>\n",
              "      <th>Policy_Sales_Channel</th>\n",
              "      <th>Vintage</th>\n",
              "      <th>Gender_Female</th>\n",
              "      <th>Gender_Male</th>\n",
              "      <th>Vehicle_Age_1-2 Year</th>\n",
              "      <th>Vehicle_Age_&lt; 1 Year</th>\n",
              "      <th>Vehicle_Age_&gt; 2 Years</th>\n",
              "      <th>Vehicle_Damage_No</th>\n",
              "      <th>Vehicle_Damage_Yes</th>\n",
              "    </tr>\n",
              "  </thead>\n",
              "  <tbody>\n",
              "    <tr>\n",
              "      <th>332803</th>\n",
              "      <td>39</td>\n",
              "      <td>1</td>\n",
              "      <td>15.0</td>\n",
              "      <td>0</td>\n",
              "      <td>52906.0</td>\n",
              "      <td>55.0</td>\n",
              "      <td>227</td>\n",
              "      <td>1</td>\n",
              "      <td>0</td>\n",
              "      <td>1</td>\n",
              "      <td>0</td>\n",
              "      <td>0</td>\n",
              "      <td>0</td>\n",
              "      <td>1</td>\n",
              "    </tr>\n",
              "    <tr>\n",
              "      <th>116248</th>\n",
              "      <td>38</td>\n",
              "      <td>1</td>\n",
              "      <td>11.0</td>\n",
              "      <td>0</td>\n",
              "      <td>23038.0</td>\n",
              "      <td>26.0</td>\n",
              "      <td>29</td>\n",
              "      <td>0</td>\n",
              "      <td>1</td>\n",
              "      <td>1</td>\n",
              "      <td>0</td>\n",
              "      <td>0</td>\n",
              "      <td>0</td>\n",
              "      <td>1</td>\n",
              "    </tr>\n",
              "    <tr>\n",
              "      <th>255005</th>\n",
              "      <td>22</td>\n",
              "      <td>1</td>\n",
              "      <td>30.0</td>\n",
              "      <td>1</td>\n",
              "      <td>45318.0</td>\n",
              "      <td>152.0</td>\n",
              "      <td>166</td>\n",
              "      <td>0</td>\n",
              "      <td>1</td>\n",
              "      <td>0</td>\n",
              "      <td>1</td>\n",
              "      <td>0</td>\n",
              "      <td>1</td>\n",
              "      <td>0</td>\n",
              "    </tr>\n",
              "    <tr>\n",
              "      <th>317474</th>\n",
              "      <td>23</td>\n",
              "      <td>1</td>\n",
              "      <td>41.0</td>\n",
              "      <td>1</td>\n",
              "      <td>29132.0</td>\n",
              "      <td>151.0</td>\n",
              "      <td>277</td>\n",
              "      <td>1</td>\n",
              "      <td>0</td>\n",
              "      <td>0</td>\n",
              "      <td>1</td>\n",
              "      <td>0</td>\n",
              "      <td>1</td>\n",
              "      <td>0</td>\n",
              "    </tr>\n",
              "    <tr>\n",
              "      <th>344212</th>\n",
              "      <td>56</td>\n",
              "      <td>1</td>\n",
              "      <td>48.0</td>\n",
              "      <td>0</td>\n",
              "      <td>2630.0</td>\n",
              "      <td>154.0</td>\n",
              "      <td>155</td>\n",
              "      <td>0</td>\n",
              "      <td>1</td>\n",
              "      <td>0</td>\n",
              "      <td>0</td>\n",
              "      <td>1</td>\n",
              "      <td>0</td>\n",
              "      <td>1</td>\n",
              "    </tr>\n",
              "    <tr>\n",
              "      <th>...</th>\n",
              "      <td>...</td>\n",
              "      <td>...</td>\n",
              "      <td>...</td>\n",
              "      <td>...</td>\n",
              "      <td>...</td>\n",
              "      <td>...</td>\n",
              "      <td>...</td>\n",
              "      <td>...</td>\n",
              "      <td>...</td>\n",
              "      <td>...</td>\n",
              "      <td>...</td>\n",
              "      <td>...</td>\n",
              "      <td>...</td>\n",
              "      <td>...</td>\n",
              "    </tr>\n",
              "    <tr>\n",
              "      <th>259178</th>\n",
              "      <td>24</td>\n",
              "      <td>1</td>\n",
              "      <td>36.0</td>\n",
              "      <td>1</td>\n",
              "      <td>22575.0</td>\n",
              "      <td>152.0</td>\n",
              "      <td>287</td>\n",
              "      <td>1</td>\n",
              "      <td>0</td>\n",
              "      <td>0</td>\n",
              "      <td>1</td>\n",
              "      <td>0</td>\n",
              "      <td>1</td>\n",
              "      <td>0</td>\n",
              "    </tr>\n",
              "    <tr>\n",
              "      <th>365838</th>\n",
              "      <td>56</td>\n",
              "      <td>1</td>\n",
              "      <td>35.0</td>\n",
              "      <td>0</td>\n",
              "      <td>41287.0</td>\n",
              "      <td>124.0</td>\n",
              "      <td>298</td>\n",
              "      <td>0</td>\n",
              "      <td>1</td>\n",
              "      <td>1</td>\n",
              "      <td>0</td>\n",
              "      <td>0</td>\n",
              "      <td>0</td>\n",
              "      <td>1</td>\n",
              "    </tr>\n",
              "    <tr>\n",
              "      <th>131932</th>\n",
              "      <td>22</td>\n",
              "      <td>1</td>\n",
              "      <td>2.0</td>\n",
              "      <td>0</td>\n",
              "      <td>18857.0</td>\n",
              "      <td>152.0</td>\n",
              "      <td>76</td>\n",
              "      <td>1</td>\n",
              "      <td>0</td>\n",
              "      <td>0</td>\n",
              "      <td>1</td>\n",
              "      <td>0</td>\n",
              "      <td>0</td>\n",
              "      <td>1</td>\n",
              "    </tr>\n",
              "    <tr>\n",
              "      <th>146867</th>\n",
              "      <td>44</td>\n",
              "      <td>1</td>\n",
              "      <td>32.0</td>\n",
              "      <td>1</td>\n",
              "      <td>2630.0</td>\n",
              "      <td>156.0</td>\n",
              "      <td>51</td>\n",
              "      <td>0</td>\n",
              "      <td>1</td>\n",
              "      <td>1</td>\n",
              "      <td>0</td>\n",
              "      <td>0</td>\n",
              "      <td>0</td>\n",
              "      <td>1</td>\n",
              "    </tr>\n",
              "    <tr>\n",
              "      <th>121958</th>\n",
              "      <td>27</td>\n",
              "      <td>1</td>\n",
              "      <td>37.0</td>\n",
              "      <td>0</td>\n",
              "      <td>24741.0</td>\n",
              "      <td>152.0</td>\n",
              "      <td>127</td>\n",
              "      <td>1</td>\n",
              "      <td>0</td>\n",
              "      <td>0</td>\n",
              "      <td>1</td>\n",
              "      <td>0</td>\n",
              "      <td>0</td>\n",
              "      <td>1</td>\n",
              "    </tr>\n",
              "  </tbody>\n",
              "</table>\n",
              "<p>304887 rows × 14 columns</p>\n",
              "</div>"
            ],
            "text/plain": [
              "        Age  Driving_License  ...  Vehicle_Damage_No  Vehicle_Damage_Yes\n",
              "332803   39                1  ...                  0                   1\n",
              "116248   38                1  ...                  0                   1\n",
              "255005   22                1  ...                  1                   0\n",
              "317474   23                1  ...                  1                   0\n",
              "344212   56                1  ...                  0                   1\n",
              "...     ...              ...  ...                ...                 ...\n",
              "259178   24                1  ...                  1                   0\n",
              "365838   56                1  ...                  0                   1\n",
              "131932   22                1  ...                  0                   1\n",
              "146867   44                1  ...                  0                   1\n",
              "121958   27                1  ...                  0                   1\n",
              "\n",
              "[304887 rows x 14 columns]"
            ]
          },
          "metadata": {
            "tags": []
          },
          "execution_count": 29
        }
      ]
    },
    {
      "cell_type": "code",
      "metadata": {
        "id": "Kk897FHeJrjp",
        "colab": {
          "base_uri": "https://localhost:8080/"
        },
        "outputId": "d9503ee3-adcd-47f1-bc9b-40384b84b606"
      },
      "source": [
        "pred = model.predict(test_insured)\n",
        "pred"
      ],
      "execution_count": 30,
      "outputs": [
        {
          "output_type": "execute_result",
          "data": {
            "text/plain": [
              "array([0, 0, 0, ..., 0, 0, 0])"
            ]
          },
          "metadata": {
            "tags": []
          },
          "execution_count": 30
        }
      ]
    },
    {
      "cell_type": "code",
      "metadata": {
        "id": "PfJOHjXCNQby",
        "colab": {
          "base_uri": "https://localhost:8080/"
        },
        "outputId": "88d21ce1-acba-460f-a6b3-0244593afe94"
      },
      "source": [
        "test_label"
      ],
      "execution_count": 31,
      "outputs": [
        {
          "output_type": "execute_result",
          "data": {
            "text/plain": [
              "200222    0\n",
              "49766     0\n",
              "172201    0\n",
              "160713    0\n",
              "53272     0\n",
              "         ..\n",
              "258403    0\n",
              "234155    0\n",
              "24476     0\n",
              "60423     0\n",
              "185839    0\n",
              "Name: Response, Length: 76222, dtype: int64"
            ]
          },
          "metadata": {
            "tags": []
          },
          "execution_count": 31
        }
      ]
    },
    {
      "cell_type": "markdown",
      "metadata": {
        "id": "UdWULLMSNWC9"
      },
      "source": [
        "#7. Create pipeline (Classification)"
      ]
    },
    {
      "cell_type": "code",
      "metadata": {
        "id": "2xYd2nWyuVcp"
      },
      "source": [
        "def run_pipeline():\n",
        "  # collect data, clean data\n",
        "  insured_df = collect_data()\n",
        "\n",
        "  # Extract Feature\n",
        "  train_df, test_df = extract_feature(insured_df) \n",
        "  \n",
        "  # split training and test\n",
        "  train_insured, test_insured, train_label, test_label = \\\n",
        "        split_train_test(insured_new_df, label_df)\n",
        "\n",
        "  # Evaluation\n",
        "  pred = model.predict(test_insured)\n",
        "  acc = eval_acc(pred, test_label)\n",
        "\n",
        "  return acc"
      ],
      "execution_count": 32,
      "outputs": []
    },
    {
      "cell_type": "code",
      "metadata": {
        "id": "QDLdlAXuwVOz",
        "colab": {
          "base_uri": "https://localhost:8080/"
        },
        "outputId": "1b90cffc-8663-47dd-ff3e-c8537d17e8d1"
      },
      "source": [
        "print(run_pipeline())"
      ],
      "execution_count": 33,
      "outputs": [
        {
          "output_type": "stream",
          "text": [
            "0.8750754375377188\n"
          ],
          "name": "stdout"
        }
      ]
    },
    {
      "cell_type": "code",
      "metadata": {
        "id": "eEIWDcoowbLy"
      },
      "source": [
        "model.save('Insurance.h5')"
      ],
      "execution_count": 46,
      "outputs": []
    }
  ]
}